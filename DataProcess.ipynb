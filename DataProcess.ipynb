{
 "cells": [
  {
   "cell_type": "markdown",
   "metadata": {},
   "source": [
    "数据集处理：\n"
   ]
  },
  {
   "cell_type": "markdown",
   "metadata": {},
   "source": [
    "    原数据集V1:(3d)"
   ]
  },
  {
   "cell_type": "code",
   "execution_count": 1,
   "metadata": {},
   "outputs": [
    {
     "name": "stdout",
     "output_type": "stream",
     "text": [
      "V1.npz 文件已保存\n"
     ]
    }
   ],
   "source": [
    "import numpy as np\n",
    "\n",
    "# 加载数据\n",
    "test_joint = np.load('data/test_A_joint.npy')  # 形状 (2000, 3, 300, 17, 2)\n",
    "test_label = np.load('data/test_A_label.npy')  # 形状 (2000,)\n",
    "train_joint = np.load('data/train_joint.npy')  # 形状 (16432, 3, 300, 17, 2)\n",
    "train_label = np.load('data/train_label.npy')  # 形状 (16432,)\n",
    "\n",
    "# train_reshaped = train_joint[:, 1:, :, :, :]\n",
    "# print(train_reshaped.shape)\n",
    "\n",
    "# test_reshaped = test_joint[:, 1:, :, :, :]\n",
    "# print(test_reshaped.shape)\n",
    "\n",
    "test_joint = np.transpose(test_joint, (0,4,2,3,1))\n",
    "train_joint = np.transpose(train_joint, (0,4,2,3,1))\n",
    "\n",
    "# # 调整维度顺序：将 (2000, 3, 300, 17, 2) 变为 (2000, 2, 300, 17, 3)\n",
    "# test_reshaped = np.transpose(test_reshaped, (0, 2, 4, 3, 1))  # 形状变为 (2000, 2, 300, 17, 3)\n",
    "# train_reshaped = np.transpose(train_reshaped, (0, 2, 4, 3, 1))  # 形状变为 (16432, 2, 300, 17, 3)\n",
    "\n",
    "# y_test 和 y_train 保持不变\n",
    "y_test = test_label  # 形状 (2000,)\n",
    "y_train = train_label  # 形状 (16432,)\n",
    "\n",
    "# 保存为 .npz 文件\n",
    "np.savez('V1_3d_4_J.npz', x_train=train_joint, y_train=y_train, x_test=test_joint, y_test=y_test)\n",
    "\n",
    "print(\"V1.npz 文件已保存\")\n"
   ]
  },
  {
   "cell_type": "markdown",
   "metadata": {},
   "source": [
    "原数据集V1：(2d)"
   ]
  },
  {
   "cell_type": "code",
   "execution_count": 5,
   "metadata": {},
   "outputs": [
    {
     "name": "stdout",
     "output_type": "stream",
     "text": [
      "(16432, 2, 300, 17, 2)\n",
      "(2000, 2, 300, 17, 2)\n",
      "V1.npz 文件已保存\n"
     ]
    }
   ],
   "source": [
    "import numpy as np\n",
    "\n",
    "# 加载数据\n",
    "test_joint = np.load('data/test_A_joint.npy')  # 形状 (2000, 3, 300, 17, 2)\n",
    "test_label = np.load('data/test_A_label.npy')  # 形状 (2000,)\n",
    "train_joint = np.load('data/train_joint.npy')  # 形状 (16432, 3, 300, 17, 2)\n",
    "train_label = np.load('data/train_label.npy')  # 形状 (16432,)\n",
    "\n",
    "train_reshaped = train_joint[:, 1:, :, :, :]\n",
    "print(train_reshaped.shape)\n",
    "\n",
    "test_reshaped = test_joint[:, 1:, :, :, :]\n",
    "print(test_reshaped.shape)\n",
    "\n",
    "# test_joint = np.transpose(test_joint, (0,4,2,3,1))\n",
    "# train_joint = np.transpose(train_joint, (0,4,2,3,1))\n",
    "\n",
    "# 调整维度顺序：将 (2000, 3, 300, 17, 2) 变为 (2000, 2, 300, 17, 3)\n",
    "test_reshaped = np.transpose(test_reshaped, (0, 2, 4, 3, 1))  # 形状变为 (2000, 300, 2, 17, 2)\n",
    "train_reshaped = np.transpose(train_reshaped, (0, 2, 4, 3, 1))  # 形状变为 (16432, 300, 2, 17, 2)\n",
    "\n",
    "# y_test 和 y_train 保持不变\n",
    "y_test = test_label  # 形状 (2000,)\n",
    "y_train = train_label  # 形状 (16432,)\n",
    "\n",
    "# 保存为 .npz 文件\n",
    "np.savez('V1_2d_4_J.npz', x_train=train_reshaped, y_train=y_train, x_test=test_reshaped, y_test=y_test)\n",
    "\n",
    "print(\"V1.npz 文件已保存\")\n"
   ]
  },
  {
   "cell_type": "markdown",
   "metadata": {
    "vscode": {
     "languageId": "plaintext"
    }
   },
   "source": [
    "tegcn使用类别：\n",
    "numpy版本会影响读取，使用相同numpy版本产生pkl与运行tegcn (python=3.8.12 numpy==1.22.3)"
   ]
  },
  {
   "cell_type": "code",
   "execution_count": null,
   "metadata": {},
   "outputs": [
    {
     "ename": "",
     "evalue": "",
     "output_type": "error",
     "traceback": [
      "\u001b[1;31m运行具有“test2 (Python 3.8.12)”的单元格需要ipykernel包。\n",
      "\u001b[1;31m运行以下命令，将 \"ipykernel\" 安装到 Python 环境中。\n",
      "\u001b[1;31m命令: \"conda install -n test2 ipykernel --update-deps --force-reinstall\""
     ]
    }
   ],
   "source": [
    "import numpy as np\n",
    "import pickle\n",
    "\n",
    "# 读取 .npy 文件\n",
    "data = np.load('data/train_label.npy')  # 假设文件名为 data.npy\n",
    "print(data.shape)\n",
    "\n",
    "# 创建新的形状为 (2, 2000) 的数组\n",
    "new_data = np.empty((2, 16432), dtype=data.dtype)\n",
    "new_data[1] = data  # 将原数组赋值给第二个维度\n",
    "\n",
    "# new_data[0] = ['test_' + str(i) for i in range(16432)]\n",
    "\n",
    "# 保存为 .pkl 文件\n",
    "with open('train_label.pkl', 'wb') as file:\n",
    "    pickle.dump(new_data, file)\n",
    "\n",
    "print(\"转换完成，已保存为 train_label.pkl\")\n",
    "\n",
    "\n",
    "# 读取 .npy 文件\n",
    "data = np.load('data/test_A_label.npy')  # 假设文件名为 data.npy\n",
    "print(data.shape)\n",
    "\n",
    "# 创建新的形状为 (2, 2000) 的数组\n",
    "new_data = np.empty((2, 2000), dtype=data.dtype)\n",
    "new_data[1] = data  # 将原数组赋值给第二个维度\n",
    "\n",
    "# new_data[0] = ['test_' + str(i) for i in range(16432)]\n",
    "\n",
    "# 保存为 .pkl 文件\n",
    "with open('test_label.pkl', 'wb') as file:\n",
    "    pickle.dump(new_data, file)\n",
    "\n",
    "print(\"转换完成，已保存为 test_label.pkl\")\n"
   ]
  },
  {
   "cell_type": "markdown",
   "metadata": {},
   "source": [
    "数据集扩充"
   ]
  },
  {
   "cell_type": "code",
   "execution_count": 7,
   "metadata": {},
   "outputs": [
    {
     "name": "stdout",
     "output_type": "stream",
     "text": [
      "已处理：6.09%\n",
      "已处理：12.17%\n",
      "已处理：18.26%\n",
      "已处理：24.34%\n",
      "已处理：30.43%\n",
      "已处理：36.51%\n",
      "已处理：42.60%\n",
      "已处理：48.69%\n",
      "已处理：54.77%\n",
      "已处理：60.86%\n",
      "已处理：66.94%\n",
      "已处理：73.03%\n",
      "已处理：79.11%\n",
      "已处理：85.20%\n",
      "已处理：91.29%\n",
      "已处理：97.37%\n",
      "已处理：100.00%\n",
      "(20248, 3, 300, 17, 2)\n"
     ]
    }
   ],
   "source": [
    "import numpy as np\n",
    "\n",
    "\n",
    "# label对称组\n",
    "index = [(3, 4), (6, 7), (11, 12), (13, 14), (15, 16), (34, 35), (38, 39), (49, 50), (51, 52), (84, 85),\n",
    "         (102, 103), (104, 105), (106, 107), (108, 109), (112, 113), (119, 120), (144, 145), (153, 154)]\n",
    "\n",
    "# 时间帧倒放\n",
    "def reverse_frame(data_file, label_file):\n",
    "    dataset = np.load(data_file)\n",
    "    labels = np.load(label_file)\n",
    "    length = dataset.shape[0]\n",
    "    count = 0\n",
    "    for data, label in zip(dataset, labels):\n",
    "        for label1, label2 in index:    # 对称label\n",
    "            if label == label1:\n",
    "                sample = np.zeros((3, 300, 17, 2))\n",
    "                zero_start = find_zero_start(data, axis=1)\n",
    "                sample[:, :zero_start, :, :] = data[:, zero_start-1::-1, :, :]  # 仅倒放非零段\n",
    "                dataset = np.append(dataset, [sample], axis=0)\n",
    "                labels = np.append(labels, label2)\n",
    "            elif label == label2:\n",
    "                sample = np.zeros((3, 300, 17, 2))\n",
    "                zero_start = find_zero_start(data, axis=1)\n",
    "                sample[:, :zero_start, :, :] = data[:, zero_start-1::-1, :, :]  # 仅倒放非零段\n",
    "                dataset = np.append(dataset, [sample], axis=0)\n",
    "                labels = np.append(labels, label1)\n",
    "        count += 1\n",
    "        if(count % 1000 == 0 or count == length):\n",
    "            print(f\"已处理：{(count/length)*100:.2f}%\")\n",
    "    return dataset, labels\n",
    "\n",
    "# 截取非零段\n",
    "def find_zero_start(arr, axis=1):\n",
    "    shape = arr.shape\n",
    "    for i in range(shape[axis]):\n",
    "        if np.sum(arr[:, i, :, :]) == 0:\n",
    "            return i\n",
    "    return shape[axis]\n",
    "\n",
    "\n",
    "# if __name__ == '__main__':\n",
    "#     sets = ['bone', 'joint', 'bone_motion', 'joint_motion'] #所需模态\n",
    "#     for set in sets:\n",
    "#         data_file = f\"./data/train_{set}.npy\"  # 训练集data路径\n",
    "#         label_file = \"./data/train_label.npy\"  # 训练集label路径\n",
    "#         data_new, label_new = reverse_frame(data_file, label_file)\n",
    "#         print(data_new.shape)\n",
    "\n",
    "#         # 3D\n",
    "#         data_new = np.transpose(data_new, (0, 4, 2, 3, 1))\n",
    "#         np.savez(f\"./data_new/train_{set}.npz\", x_train=data_new, y_train=label_new)\n",
    "\n",
    "#         # # 2D\n",
    "#         # data_new = np.transpose(data_new, (0, 2, 4, 3, 1))\n",
    "#         # np.savez(f\"../data_new/train_{set}_2d.npz\", x_train=data_new, y_train=label_new)\n",
    "\n",
    "if __name__ == '__main__':\n",
    "    sets = ['joint'] #所需模态\n",
    "    for set in sets:\n",
    "        data_file = f\"./data/train_{set}.npy\"  # 训练集data路径\n",
    "        label_file = \"./data/train_label.npy\"  # 训练集label路径\n",
    "        data_new, label_new = reverse_frame(data_file, label_file)\n",
    "        print(data_new.shape)\n",
    "\n",
    "        # 3D\n",
    "        data_new = np.transpose(data_new, (0, 4, 2, 3, 1))\n",
    "        np.savez(f\"./data_new/train_{set}.npz\", x_train=data_new, y_train=label_new)\n",
    "\n",
    "        # # 2D\n",
    "        # data_new = np.transpose(data_new, (0, 2, 4, 3, 1))\n",
    "        # np.savez(f\"../data_new/train_{set}_2d.npz\", x_train=data_new, y_train=label_new)"
   ]
  },
  {
   "cell_type": "markdown",
   "metadata": {},
   "source": [
    "B数据集处理"
   ]
  },
  {
   "cell_type": "code",
   "execution_count": 1,
   "metadata": {},
   "outputs": [
    {
     "name": "stdout",
     "output_type": "stream",
     "text": [
      "(4599, 3, 300, 17, 2)\n",
      "(4599, 2, 300, 17, 3)\n",
      "(4599,)\n",
      "已保存\n"
     ]
    }
   ],
   "source": [
    "import numpy as np\n",
    "\n",
    "test_joint = np.load('data/test_joint_B.npy')  # 形状 (4599, 3, 300, 17, 2)\n",
    "\n",
    "print(test_joint.shape)\n",
    "test_joint = np.transpose(test_joint, (0, 4, 2, 3, 1))\n",
    "print(test_joint.shape)\n",
    "\n",
    "test_label = np.zeros(4599, )\n",
    "print(test_label.shape)\n",
    "\n",
    "np.savez('V1_test_B.npz', x_test=test_joint, y_test=test_label)\n",
    "print(\"已保存\")\n",
    "\n",
    "np.save('data/test_label_B.npy', test_label)\n",
    "\n"
   ]
  },
  {
   "cell_type": "code",
   "execution_count": 2,
   "metadata": {},
   "outputs": [
    {
     "name": "stdout",
     "output_type": "stream",
     "text": [
      "(4599, 3, 300, 17, 2)\n",
      "(4599, 3, 300, 17, 2)\n",
      "(4599,)\n",
      "(4599, 2, 300, 17, 2)\n",
      "(4599, 300, 2, 17, 2)\n",
      "已保存\n"
     ]
    }
   ],
   "source": [
    "import numpy as np\n",
    "\n",
    "test_joint = np.load('data/test_joint_B.npy')  # 形状 (4599, 3, 300, 17, 2)\n",
    "\n",
    "print(test_joint.shape)\n",
    "\n",
    "print(test_joint.shape)\n",
    "\n",
    "test_label = np.zeros(4599, )\n",
    "print(test_label.shape)\n",
    "\n",
    "\n",
    "test_reshaped = test_joint[:, 1:, :, :, :]\n",
    "print(test_reshaped.shape)\n",
    "test_reshaped = np.transpose(test_reshaped, (0, 2, 4,3,1))\n",
    "print(test_reshaped.shape)\n",
    "\n",
    "np.savez('V1_test_B_2d.npz', x_test=test_reshaped, y_test=test_label)\n",
    "print(\"已保存\")\n",
    "\n",
    "# np.save('data/test_label_B.npy', test_label)"
   ]
  }
 ],
 "metadata": {
  "kernelspec": {
   "display_name": "test",
   "language": "python",
   "name": "python3"
  },
  "language_info": {
   "codemirror_mode": {
    "name": "ipython",
    "version": 3
   },
   "file_extension": ".py",
   "mimetype": "text/x-python",
   "name": "python",
   "nbconvert_exporter": "python",
   "pygments_lexer": "ipython3",
   "version": "3.9.20"
  }
 },
 "nbformat": 4,
 "nbformat_minor": 2
}
